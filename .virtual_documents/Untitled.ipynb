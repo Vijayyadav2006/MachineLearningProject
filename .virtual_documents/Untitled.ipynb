!pip install xgboost


import os
import cv2
import numpy as np
import matplotlib.pylab as plt

def load_images(folder , limit=25000):
    images = []
    labels = []
    for idx, filename in enumerate(os.listdir(folder)):
        if idx == limit:
            break
        img_path = os.path.join(folder , filename)
        img=cv2.imread(img_path, cv2.IMREAD_GRAYSCALE) #grayscale reduce the size of images
        if img is not None:
            label = 0 if 'cat' in filename else 1
            img = cv2.resize(img, (64,64))
            images.append(img.flatten())
            labels.append(label)
    return np.array(images) , np.array(labels)
            


X,Y =load_images('dataset/train' , limit=25000)


X.shape



def show_images(img, labels, no_of_images):
    plt.figure(figsize=(10,5))
    for i in range(no_of_images):
        plt.subplot(1,no_of_images,i+1)
        plt.imshow(img[i].reshape(64,64),cmap='gray')
        plt.title(labels[i])
        plt.title('Dog' if labels[i]==1 else 'Cat')
        plt.axis('off')
    plt.show()
  



show_images(X,Y,7)


from sklearn.model_selection import train_test_split
from sklearn.metrics import accuracy_score
from sklearn.ensemble import RandomForestClassifier
from xgboost import XGBClassifier





X_train,X_test,Y_train,Y_test = train_test_split(X,Y,test_size=0.2,random_state=500)


print(X_train.shape,X_test.shape,Y_train.shape,Y_test.shape)


model = XGBClassifier()



model.fit(X_train,Y_train)


train_data_prediction=model.predict(X_train)
train_accuracy_score=accuracy_score(Y_train,train_data_prediction)
print("Accuracy Score:" ,train_accuracy_score)



test_data_prediction=model.predict(X_test)
test_accuracy_score=accuracy_score(Y_test,test_data_prediction)
print("Accuracy Score of Test Data:" ,test_accuracy_score)


import random




def show_predictions(X_test, Y_test, model, num_images=10):
    plt.figure(figsize=(15, 6))
    
    # Pick random indices
    indices = random.sample(range(len(X_test)), num_images)
    
    for i, idx in enumerate(indices):
        plt.subplot(2, num_images//2, i+1)
        
        # Predict
        pred = model.predict([X_test[idx]])[0]
        
        # Show image
        plt.imshow(X_test[idx].reshape(64, 64), cmap='gray')
        plt.axis("off")
        
        # Title
        pred_label = "Dog" if pred == 1 else "Cat"
        true_label = "Dog" if Y_test[idx] == 1 else "Cat"
        color = "green" if pred == Y_test[idx] else "red"  # green if correct, red if wrong
        plt.title(f"Pred: {pred_label}\nTrue: {true_label}", color=color, fontsize=10)
    
    plt.show()

# Example usage:
show_predictions(X_test, Y_test, model, num_images=10)



